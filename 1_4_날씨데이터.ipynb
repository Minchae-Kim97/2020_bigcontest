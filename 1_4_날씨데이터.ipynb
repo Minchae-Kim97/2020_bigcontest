{
 "cells": [
  {
   "cell_type": "markdown",
   "metadata": {},
   "source": [
    "## 1. 날씨 데이터 다운로드 크롤링"
   ]
  },
  {
   "cell_type": "code",
   "execution_count": 1,
   "metadata": {},
   "outputs": [],
   "source": [
    "import pandas as pd\n",
    "from selenium import webdriver\n",
    "from selenium.common.exceptions import NoSuchElementException,StaleElementReferenceException,UnexpectedAlertPresentException\n",
    "import os\n",
    "import time"
   ]
  },
  {
   "cell_type": "code",
   "execution_count": 3,
   "metadata": {},
   "outputs": [
    {
     "name": "stderr",
     "output_type": "stream",
     "text": [
      "C:\\Users\\Administrator\\Anaconda3\\lib\\site-packages\\ipykernel_launcher.py:6: DeprecationWarning: use options instead of chrome_options\n",
      "  \n"
     ]
    }
   ],
   "source": [
    "chromeOptions = webdriver.ChromeOptions()\n",
    "prefs = {\"download.default_directory\" : r\"C:\\Users\\Administrator\\2020빅콘\\2020빅콘테스트 문제데이터(데이터분석분야-챔피언리그)\\03_weather\"}\n",
    "chromeOptions.add_experimental_option(\"prefs\",prefs)\n",
    "\n",
    "chromedriver = r'C:\\Users\\Administrator\\chromedriver'\n",
    "browser = webdriver.Chrome(executable_path=chromedriver, chrome_options=chromeOptions)"
   ]
  },
  {
   "cell_type": "code",
   "execution_count": 5,
   "metadata": {},
   "outputs": [],
   "source": [
    "def login(id, pw):\n",
    "    browser.get('https://data.kma.go.kr/data/grnd/selectAsosRltmList.do?pgmNo=36&tabNo=1')\n",
    "    \n",
    "    login = browser.find_element_by_css_selector('#loginBtn')\n",
    "    login.click()\n",
    "    time.sleep(1.5)\n",
    "    \n",
    "    input_id = browser.find_element_by_css_selector('#loginId')\n",
    "    input_id.send_keys(id)\n",
    "    input_pw = browser.find_element_by_css_selector('#passwordNo')\n",
    "    input_pw.send_keys(pw)\n",
    "    \n",
    "    login_click = browser.find_element_by_css_selector('#loginbtn')\n",
    "    login_click.click()"
   ]
  },
  {
   "cell_type": "code",
   "execution_count": 24,
   "metadata": {},
   "outputs": [],
   "source": [
    "def initial(link):\n",
    "    browser.get('https://data.kma.go.kr/data/grnd/selectAsosRltmList.do?pgmNo=36&tabNo=1')\n",
    "    \n",
    "     # 자료형태 -> 분자료로 클릭\n",
    "    select_time = browser.find_element_by_xpath('//*[@id=\"dataFormCd\"]/option[6]')\n",
    "    select_time.click()\n",
    "    time.sleep(1.5)\n",
    "\n",
    "    # 년도 -> 2019년 선택\n",
    "    select_year_from = browser.find_element_by_xpath('//*[@id=\"startDt\"]/option[3]')\n",
    "    select_year_from.click()\n",
    "    select_year_to = browser.find_element_by_xpath('//*[@id=\"endDt\"]/option[3]')\n",
    "    select_year_to.click()\n",
    "    time.sleep(1.5)\n",
    "\n",
    "    # 지역 -> 전체 클릭\n",
    "    select_area = browser.find_element_by_css_selector('#ztree_1_check')\n",
    "    select_area.click()\n",
    "    time.sleep(1.5)\n",
    "\n",
    "    # 조회클릭\n",
    "    final_click = browser.find_element_by_css_selector('#dsForm > div.btn-area.text-center > a')\n",
    "    final_click.click()\n",
    "    time.sleep(1.5)"
   ]
  },
  {
   "cell_type": "code",
   "execution_count": null,
   "metadata": {},
   "outputs": [],
   "source": [
    "# 페이지 리스트\n",
    "# '#content > div.content-body > div.boardWrap > div > div.pagination.pagination-small > ul > li.active > a',\n",
    "page_list = [\n",
    "             '#content > div.content-body > div.boardWrap > div > div.pagination.pagination-small > ul > li:nth-child(4) > a',\n",
    "             '#content > div.content-body > div.boardWrap > div > div.pagination.pagination-small > ul > li:nth-child(5) > a',\n",
    "             '#content > div.content-body > div.boardWrap > div > div.pagination.pagination-small > ul > li:nth-child(6) > a',\n",
    "             '#content > div.content-body > div.boardWrap > div > div.pagination.pagination-small > ul > li:nth-child(7) > a',\n",
    "             '#content > div.content-body > div.boardWrap > div > div.pagination.pagination-small > ul > li:nth-child(8) > a',\n",
    "             '#content > div.content-body > div.boardWrap > div > div.pagination.pagination-small > ul > li:nth-child(9) > a',\n",
    "             '#content > div.content-body > div.boardWrap > div > div.pagination.pagination-small > ul > li:nth-child(10) > a',\n",
    "             '#content > div.content-body > div.boardWrap > div > div.pagination.pagination-small > ul > li:nth-child(11) > a',\n",
    "             '#content > div.content-body > div.boardWrap > div > div.pagination.pagination-small > ul > li:nth-child(12) > a',\n",
    "             '#content > div.content-body > div.boardWrap > div > div.pagination.pagination-small > ul > li.next_page > a']\n",
    "\n",
    "while True:\n",
    "    for page in page_list:\n",
    "        try: \n",
    "            time.sleep(1)\n",
    "            next_page = browser.find_element_by_css_selector(page)\n",
    "            next_page.click()\n",
    "            time.sleep(4)\n",
    "\n",
    "            # 자료 전체클릭\n",
    "            select_data = browser.find_element_by_css_selector('#checkAll')\n",
    "            select_data.click()\n",
    "            time.sleep(2) \n",
    "\n",
    "            # 다운로드 클릭\n",
    "            download = browser.find_element_by_css_selector('#content > div.content-body > div.boardWrap > div > div.float-right > a')\n",
    "            download.click()\n",
    "            time.sleep(2.5)\n",
    "\n",
    "\n",
    "            # 용도 클릭\n",
    "            use = browser.find_element_by_css_selector('#reqstPurposeCd7')\n",
    "            use.click()\n",
    "            time.sleep(1)\n",
    "\n",
    "            # 신청 클릭\n",
    "            apply = browser.find_element_by_css_selector('#btnArea > input.btn.btn-primary')\n",
    "            apply.click()\n",
    "            time.sleep(2)\n",
    "        except NoSuchElementException:\n",
    "            break"
   ]
  },
  {
   "cell_type": "markdown",
   "metadata": {},
   "source": [
    "## 2. 병합"
   ]
  },
  {
   "cell_type": "code",
   "execution_count": 4,
   "metadata": {},
   "outputs": [
    {
     "data": {
      "text/plain": [
       "192"
      ]
     },
     "execution_count": 4,
     "metadata": {},
     "output_type": "execute_result"
    }
   ],
   "source": [
    "import pandas as pd  \n",
    "import numpy as np  \n",
    "import glob  \n",
    "import sys\n",
    "\n",
    "from tqdm import tqdm\n",
    "from tqdm import trange\n",
    "weather_list = glob.glob(r'C:\\Users\\Administrator\\2020빅콘\\2020빅콘테스트 데이터_코드\\weather\\**\\*.csv')\n",
    "len(weather_list)"
   ]
  },
  {
   "cell_type": "code",
   "execution_count": 5,
   "metadata": {},
   "outputs": [
    {
     "name": "stderr",
     "output_type": "stream",
     "text": [
      "100%|████████████████████████████████████████████████████████████████████████████████| 192/192 [03:30<00:00,  1.25s/it]\n"
     ]
    },
    {
     "name": "stdout",
     "output_type": "stream",
     "text": [
      "192\n"
     ]
    }
   ],
   "source": [
    "tot_sum = 0\n",
    "\n",
    "#파일 Union  \n",
    "all_data = pd.DataFrame()  \n",
    "for f in tqdm(weather_list): \n",
    "    df = pd.read_csv(f, engine='python', encoding='cp949') \n",
    "    all_data = all_data.append(df, ignore_index=True)\n",
    "    \n",
    "    time.sleep(0.01)\n",
    "    tot_sum += 1\n",
    "print(tot_sum)"
   ]
  },
  {
   "cell_type": "code",
   "execution_count": 7,
   "metadata": {},
   "outputs": [],
   "source": [
    "all_data.to_csv('weather_data_all.csv', index = False)"
   ]
  },
  {
   "cell_type": "markdown",
   "metadata": {},
   "source": [
    "## 3. 데이터 전처리"
   ]
  },
  {
   "cell_type": "code",
   "execution_count": 296,
   "metadata": {},
   "outputs": [
    {
     "data": {
      "text/plain": [
       "8401889"
      ]
     },
     "execution_count": 296,
     "metadata": {},
     "output_type": "execute_result"
    }
   ],
   "source": [
    "wea = pd.read_csv(\"weather_data_all.csv\", engine='python', encoding = 'utf8')\n",
    "len(wea)"
   ]
  },
  {
   "cell_type": "code",
   "execution_count": 297,
   "metadata": {},
   "outputs": [],
   "source": [
    "wea.columns = ['지점','일시', '기온', '누적강수량', '풍향', '풍속', '현지기압', '해면기압', '습도', '일사', '일조']"
   ]
  },
  {
   "cell_type": "code",
   "execution_count": 298,
   "metadata": {},
   "outputs": [
    {
     "name": "stdout",
     "output_type": "stream",
     "text": [
      "<class 'pandas.core.frame.DataFrame'>\n",
      "RangeIndex: 8401889 entries, 0 to 8401888\n",
      "Data columns (total 11 columns):\n",
      "지점       int64\n",
      "일시       object\n",
      "기온       float64\n",
      "누적강수량    float64\n",
      "풍향       float64\n",
      "풍속       float64\n",
      "현지기압     float64\n",
      "해면기압     float64\n",
      "습도       float64\n",
      "일사       float64\n",
      "일조       float64\n",
      "dtypes: float64(9), int64(1), object(1)\n",
      "memory usage: 705.1+ MB\n"
     ]
    }
   ],
   "source": [
    "wea.info()"
   ]
  },
  {
   "cell_type": "markdown",
   "metadata": {},
   "source": [
    "### 3.1 지점명 바꾸기"
   ]
  },
  {
   "cell_type": "code",
   "execution_count": null,
   "metadata": {},
   "outputs": [],
   "source": [
    "## 도청, 도청이 없으면 인구가 많은 곳\n",
    "# 108 서울\n",
    "# 159 부산\n",
    "# 143 대구\n",
    "# 112 인천\n",
    "# 156 광주\n",
    "# 133 대전\n",
    "# 152 울산\n",
    "# 119 수원 -> 경기\n",
    "# 101 춘천 -> 강원\n",
    "# 131 청주 -> 충북\n",
    "# 177 홍성 -> 충남\n",
    "# 146 전주 -> 전북\n",
    "# 174 순천 -> 전남\n",
    "# 136 안동 -> 경북\n",
    "# 155 창원 -> 경남 \n",
    "# 184 제주"
   ]
  },
  {
   "cell_type": "code",
   "execution_count": 299,
   "metadata": {
    "scrolled": true
   },
   "outputs": [
    {
     "data": {
      "text/plain": [
       "112    525599\n",
       "108    525597\n",
       "159    525593\n",
       "155    525593\n",
       "184    525588\n",
       "152    525588\n",
       "156    525575\n",
       "101    525571\n",
       "133    525560\n",
       "177    525424\n",
       "174    525322\n",
       "131    525258\n",
       "136    525192\n",
       "146    525101\n",
       "143    522888\n",
       "119    522440\n",
       "Name: 지점, dtype: int64"
      ]
     },
     "execution_count": 299,
     "metadata": {},
     "output_type": "execute_result"
    }
   ],
   "source": [
    "wea.지점.value_counts()"
   ]
  },
  {
   "cell_type": "code",
   "execution_count": 300,
   "metadata": {},
   "outputs": [
    {
     "data": {
      "text/plain": [
       "인천    525599\n",
       "서울    525597\n",
       "경남    525593\n",
       "부산    525593\n",
       "제주    525588\n",
       "울산    525588\n",
       "광주    525575\n",
       "강원    525571\n",
       "대전    525560\n",
       "충남    525424\n",
       "전남    525322\n",
       "충북    525258\n",
       "경북    525192\n",
       "전북    525101\n",
       "대구    522888\n",
       "경기    522440\n",
       "Name: 지점, dtype: int64"
      ]
     },
     "execution_count": 300,
     "metadata": {},
     "output_type": "execute_result"
    }
   ],
   "source": [
    "wea['지점'] = wea.지점.map({ 108 : '서울', \n",
    "                        159 : '부산', \n",
    "                        143 : '대구', \n",
    "                        112 : '인천', \n",
    "                        156: '광주', \n",
    "                        133: '대전', \n",
    "                        152: '울산',\n",
    "                        119: '경기', \n",
    "                        101: '강원', \n",
    "                        131: '충북', \n",
    "                        177: '충남', \n",
    "                        146: '전북', \n",
    "                        174: '전남', \n",
    "                        136: '경북', \n",
    "                        155: '경남', \n",
    "                        184: '제주'})\n",
    "wea.지점.value_counts()"
   ]
  },
  {
   "cell_type": "markdown",
   "metadata": {},
   "source": [
    "### 3.2 일시 -> 날짜 형식으로 변환"
   ]
  },
  {
   "cell_type": "code",
   "execution_count": 301,
   "metadata": {},
   "outputs": [
    {
     "name": "stdout",
     "output_type": "stream",
     "text": [
      "<class 'pandas.core.frame.DataFrame'>\n",
      "RangeIndex: 8401889 entries, 0 to 8401888\n",
      "Data columns (total 11 columns):\n",
      "지점       object\n",
      "일시       datetime64[ns]\n",
      "기온       float64\n",
      "누적강수량    float64\n",
      "풍향       float64\n",
      "풍속       float64\n",
      "현지기압     float64\n",
      "해면기압     float64\n",
      "습도       float64\n",
      "일사       float64\n",
      "일조       float64\n",
      "dtypes: datetime64[ns](1), float64(9), object(1)\n",
      "memory usage: 705.1+ MB\n"
     ]
    }
   ],
   "source": [
    "wea['일시'] = pd.to_datetime(wea['일시'], format='%Y-%m-%d %H:%M', errors='raise')\n",
    "wea.info()"
   ]
  },
  {
   "cell_type": "code",
   "execution_count": 302,
   "metadata": {},
   "outputs": [
    {
     "data": {
      "text/html": [
       "<div>\n",
       "<style scoped>\n",
       "    .dataframe tbody tr th:only-of-type {\n",
       "        vertical-align: middle;\n",
       "    }\n",
       "\n",
       "    .dataframe tbody tr th {\n",
       "        vertical-align: top;\n",
       "    }\n",
       "\n",
       "    .dataframe thead th {\n",
       "        text-align: right;\n",
       "    }\n",
       "</style>\n",
       "<table border=\"1\" class=\"dataframe\">\n",
       "  <thead>\n",
       "    <tr style=\"text-align: right;\">\n",
       "      <th></th>\n",
       "      <th>지점</th>\n",
       "      <th>일시</th>\n",
       "      <th>기온</th>\n",
       "      <th>누적강수량</th>\n",
       "      <th>풍향</th>\n",
       "      <th>풍속</th>\n",
       "      <th>현지기압</th>\n",
       "      <th>해면기압</th>\n",
       "      <th>습도</th>\n",
       "      <th>일사</th>\n",
       "      <th>일조</th>\n",
       "    </tr>\n",
       "  </thead>\n",
       "  <tbody>\n",
       "    <tr>\n",
       "      <th>0</th>\n",
       "      <td>서울</td>\n",
       "      <td>2019-01-01 00:01:00</td>\n",
       "      <td>-5.5</td>\n",
       "      <td>0.0</td>\n",
       "      <td>308.0</td>\n",
       "      <td>1.0</td>\n",
       "      <td>1024.1</td>\n",
       "      <td>1035.3</td>\n",
       "      <td>54.9</td>\n",
       "      <td>0.0</td>\n",
       "      <td>0.0</td>\n",
       "    </tr>\n",
       "    <tr>\n",
       "      <th>1</th>\n",
       "      <td>서울</td>\n",
       "      <td>2019-01-01 00:02:00</td>\n",
       "      <td>-5.5</td>\n",
       "      <td>0.0</td>\n",
       "      <td>330.9</td>\n",
       "      <td>0.8</td>\n",
       "      <td>1024.1</td>\n",
       "      <td>1035.3</td>\n",
       "      <td>55.0</td>\n",
       "      <td>0.0</td>\n",
       "      <td>0.0</td>\n",
       "    </tr>\n",
       "    <tr>\n",
       "      <th>2</th>\n",
       "      <td>서울</td>\n",
       "      <td>2019-01-01 00:03:00</td>\n",
       "      <td>-5.5</td>\n",
       "      <td>0.0</td>\n",
       "      <td>325.0</td>\n",
       "      <td>1.1</td>\n",
       "      <td>1024.1</td>\n",
       "      <td>1035.3</td>\n",
       "      <td>55.0</td>\n",
       "      <td>0.0</td>\n",
       "      <td>0.0</td>\n",
       "    </tr>\n",
       "    <tr>\n",
       "      <th>3</th>\n",
       "      <td>서울</td>\n",
       "      <td>2019-01-01 00:04:00</td>\n",
       "      <td>-5.5</td>\n",
       "      <td>0.0</td>\n",
       "      <td>282.1</td>\n",
       "      <td>0.8</td>\n",
       "      <td>1024.1</td>\n",
       "      <td>1035.3</td>\n",
       "      <td>55.2</td>\n",
       "      <td>0.0</td>\n",
       "      <td>0.0</td>\n",
       "    </tr>\n",
       "    <tr>\n",
       "      <th>4</th>\n",
       "      <td>서울</td>\n",
       "      <td>2019-01-01 00:05:00</td>\n",
       "      <td>-5.5</td>\n",
       "      <td>0.0</td>\n",
       "      <td>301.6</td>\n",
       "      <td>0.8</td>\n",
       "      <td>1024.0</td>\n",
       "      <td>1035.2</td>\n",
       "      <td>55.6</td>\n",
       "      <td>0.0</td>\n",
       "      <td>0.0</td>\n",
       "    </tr>\n",
       "  </tbody>\n",
       "</table>\n",
       "</div>"
      ],
      "text/plain": [
       "   지점                  일시   기온  누적강수량     풍향   풍속    현지기압    해면기압    습도   일사  \\\n",
       "0  서울 2019-01-01 00:01:00 -5.5    0.0  308.0  1.0  1024.1  1035.3  54.9  0.0   \n",
       "1  서울 2019-01-01 00:02:00 -5.5    0.0  330.9  0.8  1024.1  1035.3  55.0  0.0   \n",
       "2  서울 2019-01-01 00:03:00 -5.5    0.0  325.0  1.1  1024.1  1035.3  55.0  0.0   \n",
       "3  서울 2019-01-01 00:04:00 -5.5    0.0  282.1  0.8  1024.1  1035.3  55.2  0.0   \n",
       "4  서울 2019-01-01 00:05:00 -5.5    0.0  301.6  0.8  1024.0  1035.2  55.6  0.0   \n",
       "\n",
       "    일조  \n",
       "0  0.0  \n",
       "1  0.0  \n",
       "2  0.0  \n",
       "3  0.0  \n",
       "4  0.0  "
      ]
     },
     "execution_count": 302,
     "metadata": {},
     "output_type": "execute_result"
    }
   ],
   "source": [
    "wea.head()"
   ]
  },
  {
   "cell_type": "markdown",
   "metadata": {},
   "source": [
    "### 3.3 결측값 대치\n",
    "- 강수량이 결측값이면 0\n",
    "- 일사 결측값이면 0\n",
    "- 일조 결측값이면 0"
   ]
  },
  {
   "cell_type": "code",
   "execution_count": 303,
   "metadata": {},
   "outputs": [
    {
     "data": {
      "text/plain": [
       "지점            0\n",
       "일시            0\n",
       "기온         8795\n",
       "누적강수량    208197\n",
       "풍향        21036\n",
       "풍속        15333\n",
       "현지기압       8302\n",
       "해면기압       8457\n",
       "습도        12391\n",
       "일사       577648\n",
       "일조        10719\n",
       "dtype: int64"
      ]
     },
     "execution_count": 303,
     "metadata": {},
     "output_type": "execute_result"
    }
   ],
   "source": [
    "wea.isnull().sum()"
   ]
  },
  {
   "cell_type": "markdown",
   "metadata": {},
   "source": [
    "#### 3.3.1 강수량"
   ]
  },
  {
   "cell_type": "code",
   "execution_count": 304,
   "metadata": {},
   "outputs": [
    {
     "data": {
      "text/plain": [
       "0"
      ]
     },
     "execution_count": 304,
     "metadata": {},
     "output_type": "execute_result"
    }
   ],
   "source": [
    "wea['누적강수량'] = wea.누적강수량.fillna(0)\n",
    "wea.누적강수량.isnull().sum()"
   ]
  },
  {
   "cell_type": "markdown",
   "metadata": {},
   "source": [
    "#### 3.3.2 일사"
   ]
  },
  {
   "cell_type": "code",
   "execution_count": 305,
   "metadata": {},
   "outputs": [
    {
     "data": {
      "text/plain": [
       "0"
      ]
     },
     "execution_count": 305,
     "metadata": {},
     "output_type": "execute_result"
    }
   ],
   "source": [
    "wea['일사'] = wea.일사.fillna(0)\n",
    "wea.일사.isnull().sum()"
   ]
  },
  {
   "cell_type": "markdown",
   "metadata": {},
   "source": [
    "#### 3.3.3 일조"
   ]
  },
  {
   "cell_type": "code",
   "execution_count": 306,
   "metadata": {},
   "outputs": [
    {
     "data": {
      "text/plain": [
       "0"
      ]
     },
     "execution_count": 306,
     "metadata": {},
     "output_type": "execute_result"
    }
   ],
   "source": [
    "wea['일조'] = wea.일조.fillna(0)\n",
    "wea.일조.isnull().sum()"
   ]
  },
  {
   "cell_type": "code",
   "execution_count": 307,
   "metadata": {},
   "outputs": [
    {
     "data": {
      "text/plain": [
       "지점           0\n",
       "일시           0\n",
       "기온        8795\n",
       "누적강수량        0\n",
       "풍향       21036\n",
       "풍속       15333\n",
       "현지기압      8302\n",
       "해면기압      8457\n",
       "습도       12391\n",
       "일사           0\n",
       "일조           0\n",
       "dtype: int64"
      ]
     },
     "execution_count": 307,
     "metadata": {},
     "output_type": "execute_result"
    }
   ],
   "source": [
    "wea.isnull().sum()"
   ]
  },
  {
   "cell_type": "code",
   "execution_count": 308,
   "metadata": {},
   "outputs": [
    {
     "data": {
      "text/plain": [
       "<matplotlib.axes._subplots.AxesSubplot at 0x220ffc70e10>"
      ]
     },
     "execution_count": 308,
     "metadata": {},
     "output_type": "execute_result"
    },
    {
     "data": {
      "image/png": "[encoded data removed]",
      "text/plain": [
       "<Figure size 720x720 with 2 Axes>"
      ]
     },
     "metadata": {
      "needs_background": "light"
     },
     "output_type": "display_data"
    }
   ],
   "source": [
    "plt.figure(figsize=(10,10))\n",
    "sns.heatmap(data = wea.corr(), annot=True, \n",
    "fmt = '.2f', linewidths=.5, cmap='Blues')\n",
    "## 상관관계 높은 조합: 기온&해면기압, 해면기압&현지기압, 일사&일조\n",
    "# 해면기압 제외(기압이랑 현지기압이랑 상관관계 높음), 일조 제외(습도랑 상관관계)"
   ]
  },
  {
   "cell_type": "code",
   "execution_count": 309,
   "metadata": {},
   "outputs": [
    {
     "data": {
      "text/html": [
       "<div>\n",
       "<style scoped>\n",
       "    .dataframe tbody tr th:only-of-type {\n",
       "        vertical-align: middle;\n",
       "    }\n",
       "\n",
       "    .dataframe tbody tr th {\n",
       "        vertical-align: top;\n",
       "    }\n",
       "\n",
       "    .dataframe thead th {\n",
       "        text-align: right;\n",
       "    }\n",
       "</style>\n",
       "<table border=\"1\" class=\"dataframe\">\n",
       "  <thead>\n",
       "    <tr style=\"text-align: right;\">\n",
       "      <th></th>\n",
       "      <th>지점</th>\n",
       "      <th>일시</th>\n",
       "      <th>기온</th>\n",
       "      <th>누적강수량</th>\n",
       "      <th>풍향</th>\n",
       "      <th>풍속</th>\n",
       "      <th>현지기압</th>\n",
       "      <th>습도</th>\n",
       "      <th>일사</th>\n",
       "    </tr>\n",
       "  </thead>\n",
       "  <tbody>\n",
       "    <tr>\n",
       "      <th>0</th>\n",
       "      <td>서울</td>\n",
       "      <td>2019-01-01 00:01:00</td>\n",
       "      <td>-5.5</td>\n",
       "      <td>0.0</td>\n",
       "      <td>308.0</td>\n",
       "      <td>1.0</td>\n",
       "      <td>1024.1</td>\n",
       "      <td>54.9</td>\n",
       "      <td>0.0</td>\n",
       "    </tr>\n",
       "    <tr>\n",
       "      <th>1</th>\n",
       "      <td>서울</td>\n",
       "      <td>2019-01-01 00:02:00</td>\n",
       "      <td>-5.5</td>\n",
       "      <td>0.0</td>\n",
       "      <td>330.9</td>\n",
       "      <td>0.8</td>\n",
       "      <td>1024.1</td>\n",
       "      <td>55.0</td>\n",
       "      <td>0.0</td>\n",
       "    </tr>\n",
       "    <tr>\n",
       "      <th>2</th>\n",
       "      <td>서울</td>\n",
       "      <td>2019-01-01 00:03:00</td>\n",
       "      <td>-5.5</td>\n",
       "      <td>0.0</td>\n",
       "      <td>325.0</td>\n",
       "      <td>1.1</td>\n",
       "      <td>1024.1</td>\n",
       "      <td>55.0</td>\n",
       "      <td>0.0</td>\n",
       "    </tr>\n",
       "    <tr>\n",
       "      <th>3</th>\n",
       "      <td>서울</td>\n",
       "      <td>2019-01-01 00:04:00</td>\n",
       "      <td>-5.5</td>\n",
       "      <td>0.0</td>\n",
       "      <td>282.1</td>\n",
       "      <td>0.8</td>\n",
       "      <td>1024.1</td>\n",
       "      <td>55.2</td>\n",
       "      <td>0.0</td>\n",
       "    </tr>\n",
       "    <tr>\n",
       "      <th>4</th>\n",
       "      <td>서울</td>\n",
       "      <td>2019-01-01 00:05:00</td>\n",
       "      <td>-5.5</td>\n",
       "      <td>0.0</td>\n",
       "      <td>301.6</td>\n",
       "      <td>0.8</td>\n",
       "      <td>1024.0</td>\n",
       "      <td>55.6</td>\n",
       "      <td>0.0</td>\n",
       "    </tr>\n",
       "  </tbody>\n",
       "</table>\n",
       "</div>"
      ],
      "text/plain": [
       "   지점                  일시   기온  누적강수량     풍향   풍속    현지기압    습도   일사\n",
       "0  서울 2019-01-01 00:01:00 -5.5    0.0  308.0  1.0  1024.1  54.9  0.0\n",
       "1  서울 2019-01-01 00:02:00 -5.5    0.0  330.9  0.8  1024.1  55.0  0.0\n",
       "2  서울 2019-01-01 00:03:00 -5.5    0.0  325.0  1.1  1024.1  55.0  0.0\n",
       "3  서울 2019-01-01 00:04:00 -5.5    0.0  282.1  0.8  1024.1  55.2  0.0\n",
       "4  서울 2019-01-01 00:05:00 -5.5    0.0  301.6  0.8  1024.0  55.6  0.0"
      ]
     },
     "execution_count": 309,
     "metadata": {},
     "output_type": "execute_result"
    }
   ],
   "source": [
    "wea.drop(['해면기압', '일조'], axis=1,inplace=True)\n",
    "wea.head()"
   ]
  },
  {
   "cell_type": "markdown",
   "metadata": {},
   "source": [
    "### 3.4 누적강수량 -> 강수량"
   ]
  },
  {
   "cell_type": "code",
   "execution_count": 310,
   "metadata": {},
   "outputs": [
    {
     "data": {
      "text/html": [
       "<div>\n",
       "<style scoped>\n",
       "    .dataframe tbody tr th:only-of-type {\n",
       "        vertical-align: middle;\n",
       "    }\n",
       "\n",
       "    .dataframe tbody tr th {\n",
       "        vertical-align: top;\n",
       "    }\n",
       "\n",
       "    .dataframe thead th {\n",
       "        text-align: right;\n",
       "    }\n",
       "</style>\n",
       "<table border=\"1\" class=\"dataframe\">\n",
       "  <thead>\n",
       "    <tr style=\"text-align: right;\">\n",
       "      <th></th>\n",
       "      <th>지점</th>\n",
       "      <th>일시</th>\n",
       "      <th>기온</th>\n",
       "      <th>누적강수량</th>\n",
       "      <th>풍향</th>\n",
       "      <th>풍속</th>\n",
       "      <th>현지기압</th>\n",
       "      <th>습도</th>\n",
       "      <th>일사</th>\n",
       "    </tr>\n",
       "  </thead>\n",
       "  <tbody>\n",
       "    <tr>\n",
       "      <th>0</th>\n",
       "      <td>서울</td>\n",
       "      <td>2019-01-01 00:01:00</td>\n",
       "      <td>-5.5</td>\n",
       "      <td>0.0</td>\n",
       "      <td>308.0</td>\n",
       "      <td>1.0</td>\n",
       "      <td>1024.1</td>\n",
       "      <td>54.9</td>\n",
       "      <td>0.0</td>\n",
       "    </tr>\n",
       "    <tr>\n",
       "      <th>1</th>\n",
       "      <td>서울</td>\n",
       "      <td>2019-01-01 00:02:00</td>\n",
       "      <td>-5.5</td>\n",
       "      <td>0.0</td>\n",
       "      <td>330.9</td>\n",
       "      <td>0.8</td>\n",
       "      <td>1024.1</td>\n",
       "      <td>55.0</td>\n",
       "      <td>0.0</td>\n",
       "    </tr>\n",
       "    <tr>\n",
       "      <th>2</th>\n",
       "      <td>서울</td>\n",
       "      <td>2019-01-01 00:03:00</td>\n",
       "      <td>-5.5</td>\n",
       "      <td>0.0</td>\n",
       "      <td>325.0</td>\n",
       "      <td>1.1</td>\n",
       "      <td>1024.1</td>\n",
       "      <td>55.0</td>\n",
       "      <td>0.0</td>\n",
       "    </tr>\n",
       "    <tr>\n",
       "      <th>3</th>\n",
       "      <td>서울</td>\n",
       "      <td>2019-01-01 00:04:00</td>\n",
       "      <td>-5.5</td>\n",
       "      <td>0.0</td>\n",
       "      <td>282.1</td>\n",
       "      <td>0.8</td>\n",
       "      <td>1024.1</td>\n",
       "      <td>55.2</td>\n",
       "      <td>0.0</td>\n",
       "    </tr>\n",
       "    <tr>\n",
       "      <th>4</th>\n",
       "      <td>서울</td>\n",
       "      <td>2019-01-01 00:05:00</td>\n",
       "      <td>-5.5</td>\n",
       "      <td>0.0</td>\n",
       "      <td>301.6</td>\n",
       "      <td>0.8</td>\n",
       "      <td>1024.0</td>\n",
       "      <td>55.6</td>\n",
       "      <td>0.0</td>\n",
       "    </tr>\n",
       "  </tbody>\n",
       "</table>\n",
       "</div>"
      ],
      "text/plain": [
       "   지점                  일시   기온  누적강수량     풍향   풍속    현지기압    습도   일사\n",
       "0  서울 2019-01-01 00:01:00 -5.5    0.0  308.0  1.0  1024.1  54.9  0.0\n",
       "1  서울 2019-01-01 00:02:00 -5.5    0.0  330.9  0.8  1024.1  55.0  0.0\n",
       "2  서울 2019-01-01 00:03:00 -5.5    0.0  325.0  1.1  1024.1  55.0  0.0\n",
       "3  서울 2019-01-01 00:04:00 -5.5    0.0  282.1  0.8  1024.1  55.2  0.0\n",
       "4  서울 2019-01-01 00:05:00 -5.5    0.0  301.6  0.8  1024.0  55.6  0.0"
      ]
     },
     "execution_count": 310,
     "metadata": {},
     "output_type": "execute_result"
    }
   ],
   "source": [
    "wea1 = wea.copy()\n",
    "wea1.head()"
   ]
  },
  {
   "cell_type": "code",
   "execution_count": 311,
   "metadata": {},
   "outputs": [
    {
     "data": {
      "text/html": [
       "<div>\n",
       "<style scoped>\n",
       "    .dataframe tbody tr th:only-of-type {\n",
       "        vertical-align: middle;\n",
       "    }\n",
       "\n",
       "    .dataframe tbody tr th {\n",
       "        vertical-align: top;\n",
       "    }\n",
       "\n",
       "    .dataframe thead th {\n",
       "        text-align: right;\n",
       "    }\n",
       "</style>\n",
       "<table border=\"1\" class=\"dataframe\">\n",
       "  <thead>\n",
       "    <tr style=\"text-align: right;\">\n",
       "      <th></th>\n",
       "      <th>지점</th>\n",
       "      <th>일시</th>\n",
       "      <th>기온</th>\n",
       "      <th>누적강수량</th>\n",
       "      <th>풍향</th>\n",
       "      <th>풍속</th>\n",
       "      <th>현지기압</th>\n",
       "      <th>습도</th>\n",
       "      <th>일사</th>\n",
       "      <th>날짜</th>\n",
       "    </tr>\n",
       "  </thead>\n",
       "  <tbody>\n",
       "    <tr>\n",
       "      <th>0</th>\n",
       "      <td>서울</td>\n",
       "      <td>2019-01-01 00:01:00</td>\n",
       "      <td>-5.5</td>\n",
       "      <td>0.0</td>\n",
       "      <td>308.0</td>\n",
       "      <td>1.0</td>\n",
       "      <td>1024.1</td>\n",
       "      <td>54.9</td>\n",
       "      <td>0.0</td>\n",
       "      <td>2019-01-01</td>\n",
       "    </tr>\n",
       "    <tr>\n",
       "      <th>1</th>\n",
       "      <td>서울</td>\n",
       "      <td>2019-01-01 00:02:00</td>\n",
       "      <td>-5.5</td>\n",
       "      <td>0.0</td>\n",
       "      <td>330.9</td>\n",
       "      <td>0.8</td>\n",
       "      <td>1024.1</td>\n",
       "      <td>55.0</td>\n",
       "      <td>0.0</td>\n",
       "      <td>2019-01-01</td>\n",
       "    </tr>\n",
       "    <tr>\n",
       "      <th>2</th>\n",
       "      <td>서울</td>\n",
       "      <td>2019-01-01 00:03:00</td>\n",
       "      <td>-5.5</td>\n",
       "      <td>0.0</td>\n",
       "      <td>325.0</td>\n",
       "      <td>1.1</td>\n",
       "      <td>1024.1</td>\n",
       "      <td>55.0</td>\n",
       "      <td>0.0</td>\n",
       "      <td>2019-01-01</td>\n",
       "    </tr>\n",
       "    <tr>\n",
       "      <th>3</th>\n",
       "      <td>서울</td>\n",
       "      <td>2019-01-01 00:04:00</td>\n",
       "      <td>-5.5</td>\n",
       "      <td>0.0</td>\n",
       "      <td>282.1</td>\n",
       "      <td>0.8</td>\n",
       "      <td>1024.1</td>\n",
       "      <td>55.2</td>\n",
       "      <td>0.0</td>\n",
       "      <td>2019-01-01</td>\n",
       "    </tr>\n",
       "    <tr>\n",
       "      <th>4</th>\n",
       "      <td>서울</td>\n",
       "      <td>2019-01-01 00:05:00</td>\n",
       "      <td>-5.5</td>\n",
       "      <td>0.0</td>\n",
       "      <td>301.6</td>\n",
       "      <td>0.8</td>\n",
       "      <td>1024.0</td>\n",
       "      <td>55.6</td>\n",
       "      <td>0.0</td>\n",
       "      <td>2019-01-01</td>\n",
       "    </tr>\n",
       "  </tbody>\n",
       "</table>\n",
       "</div>"
      ],
      "text/plain": [
       "   지점                  일시   기온  누적강수량     풍향   풍속    현지기압    습도   일사  \\\n",
       "0  서울 2019-01-01 00:01:00 -5.5    0.0  308.0  1.0  1024.1  54.9  0.0   \n",
       "1  서울 2019-01-01 00:02:00 -5.5    0.0  330.9  0.8  1024.1  55.0  0.0   \n",
       "2  서울 2019-01-01 00:03:00 -5.5    0.0  325.0  1.1  1024.1  55.0  0.0   \n",
       "3  서울 2019-01-01 00:04:00 -5.5    0.0  282.1  0.8  1024.1  55.2  0.0   \n",
       "4  서울 2019-01-01 00:05:00 -5.5    0.0  301.6  0.8  1024.0  55.6  0.0   \n",
       "\n",
       "           날짜  \n",
       "0  2019-01-01  \n",
       "1  2019-01-01  \n",
       "2  2019-01-01  \n",
       "3  2019-01-01  \n",
       "4  2019-01-01  "
      ]
     },
     "execution_count": 311,
     "metadata": {},
     "output_type": "execute_result"
    }
   ],
   "source": [
    "wea1['날짜'] = wea1['일시'].dt.date\n",
    "wea1.head()"
   ]
  },
  {
   "cell_type": "code",
   "execution_count": 312,
   "metadata": {},
   "outputs": [
    {
     "data": {
      "text/html": [
       "<div>\n",
       "<style scoped>\n",
       "    .dataframe tbody tr th:only-of-type {\n",
       "        vertical-align: middle;\n",
       "    }\n",
       "\n",
       "    .dataframe tbody tr th {\n",
       "        vertical-align: top;\n",
       "    }\n",
       "\n",
       "    .dataframe thead th {\n",
       "        text-align: right;\n",
       "    }\n",
       "</style>\n",
       "<table border=\"1\" class=\"dataframe\">\n",
       "  <thead>\n",
       "    <tr style=\"text-align: right;\">\n",
       "      <th></th>\n",
       "      <th>지점</th>\n",
       "      <th>일시</th>\n",
       "      <th>기온</th>\n",
       "      <th>누적강수량</th>\n",
       "      <th>풍향</th>\n",
       "      <th>풍속</th>\n",
       "      <th>현지기압</th>\n",
       "      <th>습도</th>\n",
       "      <th>일사</th>\n",
       "      <th>날짜</th>\n",
       "      <th>누적강수량_shift</th>\n",
       "    </tr>\n",
       "  </thead>\n",
       "  <tbody>\n",
       "    <tr>\n",
       "      <th>0</th>\n",
       "      <td>서울</td>\n",
       "      <td>2019-01-01 00:01:00</td>\n",
       "      <td>-5.5</td>\n",
       "      <td>0.0</td>\n",
       "      <td>308.0</td>\n",
       "      <td>1.0</td>\n",
       "      <td>1024.1</td>\n",
       "      <td>54.9</td>\n",
       "      <td>0.0</td>\n",
       "      <td>2019-01-01</td>\n",
       "      <td>0.0</td>\n",
       "    </tr>\n",
       "    <tr>\n",
       "      <th>1</th>\n",
       "      <td>서울</td>\n",
       "      <td>2019-01-01 00:02:00</td>\n",
       "      <td>-5.5</td>\n",
       "      <td>0.0</td>\n",
       "      <td>330.9</td>\n",
       "      <td>0.8</td>\n",
       "      <td>1024.1</td>\n",
       "      <td>55.0</td>\n",
       "      <td>0.0</td>\n",
       "      <td>2019-01-01</td>\n",
       "      <td>0.0</td>\n",
       "    </tr>\n",
       "    <tr>\n",
       "      <th>2</th>\n",
       "      <td>서울</td>\n",
       "      <td>2019-01-01 00:03:00</td>\n",
       "      <td>-5.5</td>\n",
       "      <td>0.0</td>\n",
       "      <td>325.0</td>\n",
       "      <td>1.1</td>\n",
       "      <td>1024.1</td>\n",
       "      <td>55.0</td>\n",
       "      <td>0.0</td>\n",
       "      <td>2019-01-01</td>\n",
       "      <td>0.0</td>\n",
       "    </tr>\n",
       "    <tr>\n",
       "      <th>3</th>\n",
       "      <td>서울</td>\n",
       "      <td>2019-01-01 00:04:00</td>\n",
       "      <td>-5.5</td>\n",
       "      <td>0.0</td>\n",
       "      <td>282.1</td>\n",
       "      <td>0.8</td>\n",
       "      <td>1024.1</td>\n",
       "      <td>55.2</td>\n",
       "      <td>0.0</td>\n",
       "      <td>2019-01-01</td>\n",
       "      <td>0.0</td>\n",
       "    </tr>\n",
       "    <tr>\n",
       "      <th>4</th>\n",
       "      <td>서울</td>\n",
       "      <td>2019-01-01 00:05:00</td>\n",
       "      <td>-5.5</td>\n",
       "      <td>0.0</td>\n",
       "      <td>301.6</td>\n",
       "      <td>0.8</td>\n",
       "      <td>1024.0</td>\n",
       "      <td>55.6</td>\n",
       "      <td>0.0</td>\n",
       "      <td>2019-01-01</td>\n",
       "      <td>0.0</td>\n",
       "    </tr>\n",
       "  </tbody>\n",
       "</table>\n",
       "</div>"
      ],
      "text/plain": [
       "   지점                  일시   기온  누적강수량     풍향   풍속    현지기압    습도   일사  \\\n",
       "0  서울 2019-01-01 00:01:00 -5.5    0.0  308.0  1.0  1024.1  54.9  0.0   \n",
       "1  서울 2019-01-01 00:02:00 -5.5    0.0  330.9  0.8  1024.1  55.0  0.0   \n",
       "2  서울 2019-01-01 00:03:00 -5.5    0.0  325.0  1.1  1024.1  55.0  0.0   \n",
       "3  서울 2019-01-01 00:04:00 -5.5    0.0  282.1  0.8  1024.1  55.2  0.0   \n",
       "4  서울 2019-01-01 00:05:00 -5.5    0.0  301.6  0.8  1024.0  55.6  0.0   \n",
       "\n",
       "           날짜  누적강수량_shift  \n",
       "0  2019-01-01          0.0  \n",
       "1  2019-01-01          0.0  \n",
       "2  2019-01-01          0.0  \n",
       "3  2019-01-01          0.0  \n",
       "4  2019-01-01          0.0  "
      ]
     },
     "execution_count": 312,
     "metadata": {},
     "output_type": "execute_result"
    }
   ],
   "source": [
    "wea1['누적강수량_shift'] = wea1.누적강수량.shift(-1)\n",
    "wea1.head()"
   ]
  },
  {
   "cell_type": "code",
   "execution_count": 313,
   "metadata": {},
   "outputs": [
    {
     "data": {
      "text/html": [
       "<div>\n",
       "<style scoped>\n",
       "    .dataframe tbody tr th:only-of-type {\n",
       "        vertical-align: middle;\n",
       "    }\n",
       "\n",
       "    .dataframe tbody tr th {\n",
       "        vertical-align: top;\n",
       "    }\n",
       "\n",
       "    .dataframe thead th {\n",
       "        text-align: right;\n",
       "    }\n",
       "</style>\n",
       "<table border=\"1\" class=\"dataframe\">\n",
       "  <thead>\n",
       "    <tr style=\"text-align: right;\">\n",
       "      <th></th>\n",
       "      <th>지점</th>\n",
       "      <th>일시</th>\n",
       "      <th>기온</th>\n",
       "      <th>누적강수량</th>\n",
       "      <th>풍향</th>\n",
       "      <th>풍속</th>\n",
       "      <th>현지기압</th>\n",
       "      <th>습도</th>\n",
       "      <th>일사</th>\n",
       "      <th>날짜</th>\n",
       "      <th>누적강수량_shift</th>\n",
       "      <th>강수량</th>\n",
       "    </tr>\n",
       "  </thead>\n",
       "  <tbody>\n",
       "    <tr>\n",
       "      <th>0</th>\n",
       "      <td>서울</td>\n",
       "      <td>2019-01-01 00:01:00</td>\n",
       "      <td>-5.5</td>\n",
       "      <td>0.0</td>\n",
       "      <td>308.0</td>\n",
       "      <td>1.0</td>\n",
       "      <td>1024.1</td>\n",
       "      <td>54.9</td>\n",
       "      <td>0.0</td>\n",
       "      <td>2019-01-01</td>\n",
       "      <td>0.0</td>\n",
       "      <td>0.0</td>\n",
       "    </tr>\n",
       "    <tr>\n",
       "      <th>1</th>\n",
       "      <td>서울</td>\n",
       "      <td>2019-01-01 00:02:00</td>\n",
       "      <td>-5.5</td>\n",
       "      <td>0.0</td>\n",
       "      <td>330.9</td>\n",
       "      <td>0.8</td>\n",
       "      <td>1024.1</td>\n",
       "      <td>55.0</td>\n",
       "      <td>0.0</td>\n",
       "      <td>2019-01-01</td>\n",
       "      <td>0.0</td>\n",
       "      <td>0.0</td>\n",
       "    </tr>\n",
       "    <tr>\n",
       "      <th>2</th>\n",
       "      <td>서울</td>\n",
       "      <td>2019-01-01 00:03:00</td>\n",
       "      <td>-5.5</td>\n",
       "      <td>0.0</td>\n",
       "      <td>325.0</td>\n",
       "      <td>1.1</td>\n",
       "      <td>1024.1</td>\n",
       "      <td>55.0</td>\n",
       "      <td>0.0</td>\n",
       "      <td>2019-01-01</td>\n",
       "      <td>0.0</td>\n",
       "      <td>0.0</td>\n",
       "    </tr>\n",
       "    <tr>\n",
       "      <th>3</th>\n",
       "      <td>서울</td>\n",
       "      <td>2019-01-01 00:04:00</td>\n",
       "      <td>-5.5</td>\n",
       "      <td>0.0</td>\n",
       "      <td>282.1</td>\n",
       "      <td>0.8</td>\n",
       "      <td>1024.1</td>\n",
       "      <td>55.2</td>\n",
       "      <td>0.0</td>\n",
       "      <td>2019-01-01</td>\n",
       "      <td>0.0</td>\n",
       "      <td>0.0</td>\n",
       "    </tr>\n",
       "    <tr>\n",
       "      <th>4</th>\n",
       "      <td>서울</td>\n",
       "      <td>2019-01-01 00:05:00</td>\n",
       "      <td>-5.5</td>\n",
       "      <td>0.0</td>\n",
       "      <td>301.6</td>\n",
       "      <td>0.8</td>\n",
       "      <td>1024.0</td>\n",
       "      <td>55.6</td>\n",
       "      <td>0.0</td>\n",
       "      <td>2019-01-01</td>\n",
       "      <td>0.0</td>\n",
       "      <td>0.0</td>\n",
       "    </tr>\n",
       "  </tbody>\n",
       "</table>\n",
       "</div>"
      ],
      "text/plain": [
       "   지점                  일시   기온  누적강수량     풍향   풍속    현지기압    습도   일사  \\\n",
       "0  서울 2019-01-01 00:01:00 -5.5    0.0  308.0  1.0  1024.1  54.9  0.0   \n",
       "1  서울 2019-01-01 00:02:00 -5.5    0.0  330.9  0.8  1024.1  55.0  0.0   \n",
       "2  서울 2019-01-01 00:03:00 -5.5    0.0  325.0  1.1  1024.1  55.0  0.0   \n",
       "3  서울 2019-01-01 00:04:00 -5.5    0.0  282.1  0.8  1024.1  55.2  0.0   \n",
       "4  서울 2019-01-01 00:05:00 -5.5    0.0  301.6  0.8  1024.0  55.6  0.0   \n",
       "\n",
       "           날짜  누적강수량_shift  강수량  \n",
       "0  2019-01-01          0.0  0.0  \n",
       "1  2019-01-01          0.0  0.0  \n",
       "2  2019-01-01          0.0  0.0  \n",
       "3  2019-01-01          0.0  0.0  \n",
       "4  2019-01-01          0.0  0.0  "
      ]
     },
     "execution_count": 313,
     "metadata": {},
     "output_type": "execute_result"
    }
   ],
   "source": [
    "wea1['강수량'] = wea1['누적강수량_shift'] - wea1['누적강수량']\n",
    "wea1.head()"
   ]
  },
  {
   "cell_type": "code",
   "execution_count": 314,
   "metadata": {},
   "outputs": [
    {
     "data": {
      "text/html": [
       "<div>\n",
       "<style scoped>\n",
       "    .dataframe tbody tr th:only-of-type {\n",
       "        vertical-align: middle;\n",
       "    }\n",
       "\n",
       "    .dataframe tbody tr th {\n",
       "        vertical-align: top;\n",
       "    }\n",
       "\n",
       "    .dataframe thead th {\n",
       "        text-align: right;\n",
       "    }\n",
       "</style>\n",
       "<table border=\"1\" class=\"dataframe\">\n",
       "  <thead>\n",
       "    <tr style=\"text-align: right;\">\n",
       "      <th></th>\n",
       "      <th>지점</th>\n",
       "      <th>일시</th>\n",
       "      <th>기온</th>\n",
       "      <th>누적강수량</th>\n",
       "      <th>풍향</th>\n",
       "      <th>풍속</th>\n",
       "      <th>현지기압</th>\n",
       "      <th>습도</th>\n",
       "      <th>일사</th>\n",
       "      <th>강수량</th>\n",
       "    </tr>\n",
       "  </thead>\n",
       "  <tbody>\n",
       "    <tr>\n",
       "      <th>0</th>\n",
       "      <td>서울</td>\n",
       "      <td>2019-01-01 00:01:00</td>\n",
       "      <td>-5.5</td>\n",
       "      <td>0.0</td>\n",
       "      <td>308.0</td>\n",
       "      <td>1.0</td>\n",
       "      <td>1024.1</td>\n",
       "      <td>54.9</td>\n",
       "      <td>0.0</td>\n",
       "      <td>0.0</td>\n",
       "    </tr>\n",
       "    <tr>\n",
       "      <th>1</th>\n",
       "      <td>서울</td>\n",
       "      <td>2019-01-01 00:02:00</td>\n",
       "      <td>-5.5</td>\n",
       "      <td>0.0</td>\n",
       "      <td>330.9</td>\n",
       "      <td>0.8</td>\n",
       "      <td>1024.1</td>\n",
       "      <td>55.0</td>\n",
       "      <td>0.0</td>\n",
       "      <td>0.0</td>\n",
       "    </tr>\n",
       "    <tr>\n",
       "      <th>2</th>\n",
       "      <td>서울</td>\n",
       "      <td>2019-01-01 00:03:00</td>\n",
       "      <td>-5.5</td>\n",
       "      <td>0.0</td>\n",
       "      <td>325.0</td>\n",
       "      <td>1.1</td>\n",
       "      <td>1024.1</td>\n",
       "      <td>55.0</td>\n",
       "      <td>0.0</td>\n",
       "      <td>0.0</td>\n",
       "    </tr>\n",
       "    <tr>\n",
       "      <th>3</th>\n",
       "      <td>서울</td>\n",
       "      <td>2019-01-01 00:04:00</td>\n",
       "      <td>-5.5</td>\n",
       "      <td>0.0</td>\n",
       "      <td>282.1</td>\n",
       "      <td>0.8</td>\n",
       "      <td>1024.1</td>\n",
       "      <td>55.2</td>\n",
       "      <td>0.0</td>\n",
       "      <td>0.0</td>\n",
       "    </tr>\n",
       "    <tr>\n",
       "      <th>4</th>\n",
       "      <td>서울</td>\n",
       "      <td>2019-01-01 00:05:00</td>\n",
       "      <td>-5.5</td>\n",
       "      <td>0.0</td>\n",
       "      <td>301.6</td>\n",
       "      <td>0.8</td>\n",
       "      <td>1024.0</td>\n",
       "      <td>55.6</td>\n",
       "      <td>0.0</td>\n",
       "      <td>0.0</td>\n",
       "    </tr>\n",
       "  </tbody>\n",
       "</table>\n",
       "</div>"
      ],
      "text/plain": [
       "   지점                  일시   기온  누적강수량     풍향   풍속    현지기압    습도   일사  강수량\n",
       "0  서울 2019-01-01 00:01:00 -5.5    0.0  308.0  1.0  1024.1  54.9  0.0  0.0\n",
       "1  서울 2019-01-01 00:02:00 -5.5    0.0  330.9  0.8  1024.1  55.0  0.0  0.0\n",
       "2  서울 2019-01-01 00:03:00 -5.5    0.0  325.0  1.1  1024.1  55.0  0.0  0.0\n",
       "3  서울 2019-01-01 00:04:00 -5.5    0.0  282.1  0.8  1024.1  55.2  0.0  0.0\n",
       "4  서울 2019-01-01 00:05:00 -5.5    0.0  301.6  0.8  1024.0  55.6  0.0  0.0"
      ]
     },
     "execution_count": 314,
     "metadata": {},
     "output_type": "execute_result"
    }
   ],
   "source": [
    "wea1[wea1['강수량']<0] = 0\n",
    "wea['강수량'] = wea1['강수량']\n",
    "wea.head()"
   ]
  },
  {
   "cell_type": "code",
   "execution_count": 315,
   "metadata": {},
   "outputs": [
    {
     "data": {
      "text/plain": [
       "1"
      ]
     },
     "execution_count": 315,
     "metadata": {},
     "output_type": "execute_result"
    }
   ],
   "source": [
    "wea.강수량.isnull().sum()"
   ]
  },
  {
   "cell_type": "code",
   "execution_count": 316,
   "metadata": {},
   "outputs": [
    {
     "data": {
      "text/html": [
       "<div>\n",
       "<style scoped>\n",
       "    .dataframe tbody tr th:only-of-type {\n",
       "        vertical-align: middle;\n",
       "    }\n",
       "\n",
       "    .dataframe tbody tr th {\n",
       "        vertical-align: top;\n",
       "    }\n",
       "\n",
       "    .dataframe thead th {\n",
       "        text-align: right;\n",
       "    }\n",
       "</style>\n",
       "<table border=\"1\" class=\"dataframe\">\n",
       "  <thead>\n",
       "    <tr style=\"text-align: right;\">\n",
       "      <th></th>\n",
       "      <th>지점</th>\n",
       "      <th>일시</th>\n",
       "      <th>기온</th>\n",
       "      <th>누적강수량</th>\n",
       "      <th>풍향</th>\n",
       "      <th>풍속</th>\n",
       "      <th>현지기압</th>\n",
       "      <th>습도</th>\n",
       "      <th>일사</th>\n",
       "      <th>강수량</th>\n",
       "    </tr>\n",
       "  </thead>\n",
       "  <tbody>\n",
       "    <tr>\n",
       "      <th>8401888</th>\n",
       "      <td>강원</td>\n",
       "      <td>2020-01-01</td>\n",
       "      <td>-9.1</td>\n",
       "      <td>0.0</td>\n",
       "      <td>10.6</td>\n",
       "      <td>0.5</td>\n",
       "      <td>1024.0</td>\n",
       "      <td>66.0</td>\n",
       "      <td>9.93</td>\n",
       "      <td>NaN</td>\n",
       "    </tr>\n",
       "  </tbody>\n",
       "</table>\n",
       "</div>"
      ],
      "text/plain": [
       "         지점         일시   기온  누적강수량    풍향   풍속    현지기압    습도    일사  강수량\n",
       "8401888  강원 2020-01-01 -9.1    0.0  10.6  0.5  1024.0  66.0  9.93  NaN"
      ]
     },
     "execution_count": 316,
     "metadata": {},
     "output_type": "execute_result"
    }
   ],
   "source": [
    "wea[wea['강수량'].isnull()]"
   ]
  },
  {
   "cell_type": "code",
   "execution_count": 317,
   "metadata": {},
   "outputs": [
    {
     "data": {
      "text/plain": [
       "0"
      ]
     },
     "execution_count": 317,
     "metadata": {},
     "output_type": "execute_result"
    }
   ],
   "source": [
    "wea[wea.강수량.isnull()] = 0\n",
    "wea.강수량.isnull().sum()"
   ]
  },
  {
   "cell_type": "code",
   "execution_count": 318,
   "metadata": {},
   "outputs": [],
   "source": [
    "wea.to_csv('weather_data_all_before_na.csv', encoding = 'utf8', index = False) "
   ]
  },
  {
   "cell_type": "markdown",
   "metadata": {},
   "source": [
    "R에서 mice로 결측값 대치 -> 파일이름: 1_4_날씨데이터_결측값대치"
   ]
  },
  {
   "cell_type": "markdown",
   "metadata": {},
   "source": [
    "### 3.5 R에서 결측값 대치 후, 데이터 합치기"
   ]
  },
  {
   "cell_type": "code",
   "execution_count": 12,
   "metadata": {},
   "outputs": [
    {
     "data": {
      "text/plain": [
       "16"
      ]
     },
     "execution_count": 12,
     "metadata": {},
     "output_type": "execute_result"
    }
   ],
   "source": [
    "import glob  \n",
    "import sys\n",
    "import time\n",
    "\n",
    "from tqdm import tqdm\n",
    "from tqdm import trange\n",
    "weather_list = glob.glob(r'C:\\Users\\Administrator\\2020빅콘\\2020빅콘테스트 데이터_코드\\weather_predict\\*.csv')\n",
    "len(weather_list)"
   ]
  },
  {
   "cell_type": "code",
   "execution_count": 13,
   "metadata": {},
   "outputs": [
    {
     "name": "stderr",
     "output_type": "stream",
     "text": [
      "100%|██████████████████████████████████████████████████████████████████████████████████| 16/16 [02:26<00:00,  9.09s/it]\n"
     ]
    }
   ],
   "source": [
    "tot_sum = 0\n",
    "\n",
    "#파일 Union  \n",
    "all_data = pd.DataFrame()  \n",
    "for f in tqdm(weather_list): \n",
    "    df = pd.read_csv(f, engine='python', encoding='cp949') \n",
    "    all_data = all_data.append(df, ignore_index=True)\n",
    "    \n",
    "    time.sleep(0.01)\n",
    "    tot_sum += 1"
   ]
  },
  {
   "cell_type": "code",
   "execution_count": 14,
   "metadata": {},
   "outputs": [],
   "source": [
    "all_data.to_csv('weather_data_all_after_na.csv', index = False)"
   ]
  },
  {
   "cell_type": "markdown",
   "metadata": {},
   "source": [
    "[최종 데이터]"
   ]
  },
  {
   "cell_type": "code",
   "execution_count": 38,
   "metadata": {},
   "outputs": [
    {
     "data": {
      "text/html": [
       "<div>\n",
       "<style scoped>\n",
       "    .dataframe tbody tr th:only-of-type {\n",
       "        vertical-align: middle;\n",
       "    }\n",
       "\n",
       "    .dataframe tbody tr th {\n",
       "        vertical-align: top;\n",
       "    }\n",
       "\n",
       "    .dataframe thead th {\n",
       "        text-align: right;\n",
       "    }\n",
       "</style>\n",
       "<table border=\"1\" class=\"dataframe\">\n",
       "  <thead>\n",
       "    <tr style=\"text-align: right;\">\n",
       "      <th></th>\n",
       "      <th>지점</th>\n",
       "      <th>일시</th>\n",
       "      <th>기온</th>\n",
       "      <th>누적강수량</th>\n",
       "      <th>풍향</th>\n",
       "      <th>풍속</th>\n",
       "      <th>현지기압</th>\n",
       "      <th>습도</th>\n",
       "      <th>일사</th>\n",
       "      <th>강수량</th>\n",
       "    </tr>\n",
       "  </thead>\n",
       "  <tbody>\n",
       "    <tr>\n",
       "      <th>0</th>\n",
       "      <td>강원</td>\n",
       "      <td>2019-01-01 00:01:00</td>\n",
       "      <td>-9.7</td>\n",
       "      <td>0.0</td>\n",
       "      <td>0.0</td>\n",
       "      <td>0.0</td>\n",
       "      <td>1025.9</td>\n",
       "      <td>70.0</td>\n",
       "      <td>0.0</td>\n",
       "      <td>0.0</td>\n",
       "    </tr>\n",
       "    <tr>\n",
       "      <th>1</th>\n",
       "      <td>강원</td>\n",
       "      <td>2019-01-01 00:02:00</td>\n",
       "      <td>-9.7</td>\n",
       "      <td>0.0</td>\n",
       "      <td>283.0</td>\n",
       "      <td>0.4</td>\n",
       "      <td>1025.9</td>\n",
       "      <td>69.5</td>\n",
       "      <td>0.0</td>\n",
       "      <td>0.0</td>\n",
       "    </tr>\n",
       "    <tr>\n",
       "      <th>2</th>\n",
       "      <td>강원</td>\n",
       "      <td>2019-01-01 00:03:00</td>\n",
       "      <td>-9.7</td>\n",
       "      <td>0.0</td>\n",
       "      <td>289.0</td>\n",
       "      <td>0.6</td>\n",
       "      <td>1025.9</td>\n",
       "      <td>70.4</td>\n",
       "      <td>0.0</td>\n",
       "      <td>0.0</td>\n",
       "    </tr>\n",
       "    <tr>\n",
       "      <th>3</th>\n",
       "      <td>강원</td>\n",
       "      <td>2019-01-01 00:04:00</td>\n",
       "      <td>-9.8</td>\n",
       "      <td>0.0</td>\n",
       "      <td>290.1</td>\n",
       "      <td>0.5</td>\n",
       "      <td>1025.9</td>\n",
       "      <td>70.9</td>\n",
       "      <td>0.0</td>\n",
       "      <td>0.0</td>\n",
       "    </tr>\n",
       "    <tr>\n",
       "      <th>4</th>\n",
       "      <td>강원</td>\n",
       "      <td>2019-01-01 00:05:00</td>\n",
       "      <td>-9.8</td>\n",
       "      <td>0.0</td>\n",
       "      <td>306.6</td>\n",
       "      <td>0.3</td>\n",
       "      <td>1025.9</td>\n",
       "      <td>71.2</td>\n",
       "      <td>0.0</td>\n",
       "      <td>0.0</td>\n",
       "    </tr>\n",
       "  </tbody>\n",
       "</table>\n",
       "</div>"
      ],
      "text/plain": [
       "   지점                   일시   기온  누적강수량     풍향   풍속    현지기압    습도   일사  강수량\n",
       "0  강원  2019-01-01 00:01:00 -9.7    0.0    0.0  0.0  1025.9  70.0  0.0  0.0\n",
       "1  강원  2019-01-01 00:02:00 -9.7    0.0  283.0  0.4  1025.9  69.5  0.0  0.0\n",
       "2  강원  2019-01-01 00:03:00 -9.7    0.0  289.0  0.6  1025.9  70.4  0.0  0.0\n",
       "3  강원  2019-01-01 00:04:00 -9.8    0.0  290.1  0.5  1025.9  70.9  0.0  0.0\n",
       "4  강원  2019-01-01 00:05:00 -9.8    0.0  306.6  0.3  1025.9  71.2  0.0  0.0"
      ]
     },
     "execution_count": 38,
     "metadata": {},
     "output_type": "execute_result"
    }
   ],
   "source": [
    "### 최종 데이터 ###\n",
    "wea = pd.read_csv('weather_data_all_after_na.csv', encoding = 'utf8')\n",
    "wea.head()"
   ]
  },
  {
   "cell_type": "code",
   "execution_count": 39,
   "metadata": {},
   "outputs": [
    {
     "data": {
      "text/html": [
       "<div>\n",
       "<style scoped>\n",
       "    .dataframe tbody tr th:only-of-type {\n",
       "        vertical-align: middle;\n",
       "    }\n",
       "\n",
       "    .dataframe tbody tr th {\n",
       "        vertical-align: top;\n",
       "    }\n",
       "\n",
       "    .dataframe thead th {\n",
       "        text-align: right;\n",
       "    }\n",
       "</style>\n",
       "<table border=\"1\" class=\"dataframe\">\n",
       "  <thead>\n",
       "    <tr style=\"text-align: right;\">\n",
       "      <th></th>\n",
       "      <th>지점</th>\n",
       "      <th>일시</th>\n",
       "      <th>기온</th>\n",
       "      <th>풍향</th>\n",
       "      <th>풍속</th>\n",
       "      <th>현지기압</th>\n",
       "      <th>습도</th>\n",
       "      <th>일사</th>\n",
       "      <th>강수량</th>\n",
       "    </tr>\n",
       "  </thead>\n",
       "  <tbody>\n",
       "    <tr>\n",
       "      <th>0</th>\n",
       "      <td>강원</td>\n",
       "      <td>2019-01-01 00:01:00</td>\n",
       "      <td>-9.7</td>\n",
       "      <td>0.0</td>\n",
       "      <td>0.0</td>\n",
       "      <td>1025.9</td>\n",
       "      <td>70.0</td>\n",
       "      <td>0.0</td>\n",
       "      <td>0.0</td>\n",
       "    </tr>\n",
       "    <tr>\n",
       "      <th>1</th>\n",
       "      <td>강원</td>\n",
       "      <td>2019-01-01 00:02:00</td>\n",
       "      <td>-9.7</td>\n",
       "      <td>283.0</td>\n",
       "      <td>0.4</td>\n",
       "      <td>1025.9</td>\n",
       "      <td>69.5</td>\n",
       "      <td>0.0</td>\n",
       "      <td>0.0</td>\n",
       "    </tr>\n",
       "    <tr>\n",
       "      <th>2</th>\n",
       "      <td>강원</td>\n",
       "      <td>2019-01-01 00:03:00</td>\n",
       "      <td>-9.7</td>\n",
       "      <td>289.0</td>\n",
       "      <td>0.6</td>\n",
       "      <td>1025.9</td>\n",
       "      <td>70.4</td>\n",
       "      <td>0.0</td>\n",
       "      <td>0.0</td>\n",
       "    </tr>\n",
       "    <tr>\n",
       "      <th>3</th>\n",
       "      <td>강원</td>\n",
       "      <td>2019-01-01 00:04:00</td>\n",
       "      <td>-9.8</td>\n",
       "      <td>290.1</td>\n",
       "      <td>0.5</td>\n",
       "      <td>1025.9</td>\n",
       "      <td>70.9</td>\n",
       "      <td>0.0</td>\n",
       "      <td>0.0</td>\n",
       "    </tr>\n",
       "    <tr>\n",
       "      <th>4</th>\n",
       "      <td>강원</td>\n",
       "      <td>2019-01-01 00:05:00</td>\n",
       "      <td>-9.8</td>\n",
       "      <td>306.6</td>\n",
       "      <td>0.3</td>\n",
       "      <td>1025.9</td>\n",
       "      <td>71.2</td>\n",
       "      <td>0.0</td>\n",
       "      <td>0.0</td>\n",
       "    </tr>\n",
       "  </tbody>\n",
       "</table>\n",
       "</div>"
      ],
      "text/plain": [
       "   지점                   일시   기온     풍향   풍속    현지기압    습도   일사  강수량\n",
       "0  강원  2019-01-01 00:01:00 -9.7    0.0  0.0  1025.9  70.0  0.0  0.0\n",
       "1  강원  2019-01-01 00:02:00 -9.7  283.0  0.4  1025.9  69.5  0.0  0.0\n",
       "2  강원  2019-01-01 00:03:00 -9.7  289.0  0.6  1025.9  70.4  0.0  0.0\n",
       "3  강원  2019-01-01 00:04:00 -9.8  290.1  0.5  1025.9  70.9  0.0  0.0\n",
       "4  강원  2019-01-01 00:05:00 -9.8  306.6  0.3  1025.9  71.2  0.0  0.0"
      ]
     },
     "execution_count": 39,
     "metadata": {},
     "output_type": "execute_result"
    }
   ],
   "source": [
    "wea.drop('누적강수량', axis = 1, inplace = True)\n",
    "wea.head()"
   ]
  },
  {
   "cell_type": "code",
   "execution_count": 40,
   "metadata": {},
   "outputs": [],
   "source": [
    "wea.to_csv('weather_data_all_after_na.csv', index = False)"
   ]
  },
  {
   "cell_type": "code",
   "execution_count": 19,
   "metadata": {},
   "outputs": [
    {
     "data": {
      "text/html": [
       "<div>\n",
       "<style scoped>\n",
       "    .dataframe tbody tr th:only-of-type {\n",
       "        vertical-align: middle;\n",
       "    }\n",
       "\n",
       "    .dataframe tbody tr th {\n",
       "        vertical-align: top;\n",
       "    }\n",
       "\n",
       "    .dataframe thead th {\n",
       "        text-align: right;\n",
       "    }\n",
       "</style>\n",
       "<table border=\"1\" class=\"dataframe\">\n",
       "  <thead>\n",
       "    <tr style=\"text-align: right;\">\n",
       "      <th></th>\n",
       "      <th>지점</th>\n",
       "      <th>일시</th>\n",
       "      <th>기온</th>\n",
       "      <th>풍향</th>\n",
       "      <th>풍속</th>\n",
       "      <th>현지기압</th>\n",
       "      <th>습도</th>\n",
       "      <th>일사</th>\n",
       "      <th>강수량</th>\n",
       "    </tr>\n",
       "  </thead>\n",
       "  <tbody>\n",
       "    <tr>\n",
       "      <th>0</th>\n",
       "      <td>강원</td>\n",
       "      <td>2019-01-01 00:01:00</td>\n",
       "      <td>-9.7</td>\n",
       "      <td>0.0</td>\n",
       "      <td>0.0</td>\n",
       "      <td>1025.9</td>\n",
       "      <td>70.0</td>\n",
       "      <td>0.0</td>\n",
       "      <td>0.0</td>\n",
       "    </tr>\n",
       "    <tr>\n",
       "      <th>1</th>\n",
       "      <td>강원</td>\n",
       "      <td>2019-01-01 00:02:00</td>\n",
       "      <td>-9.7</td>\n",
       "      <td>283.0</td>\n",
       "      <td>0.4</td>\n",
       "      <td>1025.9</td>\n",
       "      <td>69.5</td>\n",
       "      <td>0.0</td>\n",
       "      <td>0.0</td>\n",
       "    </tr>\n",
       "    <tr>\n",
       "      <th>2</th>\n",
       "      <td>강원</td>\n",
       "      <td>2019-01-01 00:03:00</td>\n",
       "      <td>-9.7</td>\n",
       "      <td>289.0</td>\n",
       "      <td>0.6</td>\n",
       "      <td>1025.9</td>\n",
       "      <td>70.4</td>\n",
       "      <td>0.0</td>\n",
       "      <td>0.0</td>\n",
       "    </tr>\n",
       "    <tr>\n",
       "      <th>3</th>\n",
       "      <td>강원</td>\n",
       "      <td>2019-01-01 00:04:00</td>\n",
       "      <td>-9.8</td>\n",
       "      <td>290.1</td>\n",
       "      <td>0.5</td>\n",
       "      <td>1025.9</td>\n",
       "      <td>70.9</td>\n",
       "      <td>0.0</td>\n",
       "      <td>0.0</td>\n",
       "    </tr>\n",
       "    <tr>\n",
       "      <th>4</th>\n",
       "      <td>강원</td>\n",
       "      <td>2019-01-01 00:05:00</td>\n",
       "      <td>-9.8</td>\n",
       "      <td>306.6</td>\n",
       "      <td>0.3</td>\n",
       "      <td>1025.9</td>\n",
       "      <td>71.2</td>\n",
       "      <td>0.0</td>\n",
       "      <td>0.0</td>\n",
       "    </tr>\n",
       "  </tbody>\n",
       "</table>\n",
       "</div>"
      ],
      "text/plain": [
       "   지점                   일시   기온     풍향   풍속    현지기압    습도   일사  강수량\n",
       "0  강원  2019-01-01 00:01:00 -9.7    0.0  0.0  1025.9  70.0  0.0  0.0\n",
       "1  강원  2019-01-01 00:02:00 -9.7  283.0  0.4  1025.9  69.5  0.0  0.0\n",
       "2  강원  2019-01-01 00:03:00 -9.7  289.0  0.6  1025.9  70.4  0.0  0.0\n",
       "3  강원  2019-01-01 00:04:00 -9.8  290.1  0.5  1025.9  70.9  0.0  0.0\n",
       "4  강원  2019-01-01 00:05:00 -9.8  306.6  0.3  1025.9  71.2  0.0  0.0"
      ]
     },
     "execution_count": 19,
     "metadata": {},
     "output_type": "execute_result"
    }
   ],
   "source": [
    "wea = pd.read_csv('weather_df_(all).csv')\n",
    "wea.head()"
   ]
  },
  {
   "cell_type": "code",
   "execution_count": null,
   "metadata": {},
   "outputs": [],
   "source": []
  },
  {
   "cell_type": "code",
   "execution_count": null,
   "metadata": {},
   "outputs": [],
   "source": []
  },
  {
   "cell_type": "code",
   "execution_count": null,
   "metadata": {},
   "outputs": [],
   "source": []
  },
  {
   "cell_type": "code",
   "execution_count": null,
   "metadata": {},
   "outputs": [],
   "source": []
  },
  {
   "cell_type": "code",
   "execution_count": null,
   "metadata": {},
   "outputs": [],
   "source": []
  },
  {
   "cell_type": "code",
   "execution_count": null,
   "metadata": {},
   "outputs": [],
   "source": []
  }
 ],
 "metadata": {
  "kernelspec": {
   "display_name": "Python 3",
   "language": "python",
   "name": "python3"
  },
  "language_info": {
   "codemirror_mode": {
    "name": "ipython",
    "version": 3
   },
   "file_extension": ".py",
   "mimetype": "text/x-python",
   "name": "python",
   "nbconvert_exporter": "python",
   "pygments_lexer": "ipython3",
   "version": "3.8.3"
  }
 },
 "nbformat": 4,
 "nbformat_minor": 2
}
